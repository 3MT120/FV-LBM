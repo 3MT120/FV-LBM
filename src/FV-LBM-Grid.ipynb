{
 "cells": [
  {
   "cell_type": "code",
   "execution_count": 1,
   "id": "c6e9733a-ccd7-4b95-a81f-6ccfc799b1b6",
   "metadata": {
    "tags": []
   },
   "outputs": [],
   "source": [
    "import numpy as np\n",
    "import matplotlib.pyplot as plt\n",
    "\n",
    "from Grid import gridpoint, lattice\n"
   ]
  },
  {
   "cell_type": "code",
   "execution_count": 2,
   "id": "6ca965ed-78ea-4190-8f64-37da7add48ed",
   "metadata": {
    "tags": []
   },
   "outputs": [],
   "source": [
    "Nx = 11\n",
    "Ny = 5"
   ]
  },
  {
   "cell_type": "code",
   "execution_count": 3,
   "id": "cdfb3747-6b3d-41f3-870e-4f333f9f9858",
   "metadata": {
    "tags": []
   },
   "outputs": [],
   "source": [
    "field = lattice(Nx, Ny)"
   ]
  },
  {
   "cell_type": "code",
   "execution_count": 4,
   "id": "cea6bc8e-8814-4248-b171-fece3a7d41b0",
   "metadata": {
    "tags": []
   },
   "outputs": [],
   "source": [
    "yval = []\n",
    "\n",
    "for d in range(Ny):\n",
    "    yval += Nx*[d/(Ny-1)]\n",
    "\n",
    "typeval = []\n",
    "\n",
    "typeval += Nx*[1]\n",
    "\n",
    "for d in range(Ny-2):\n",
    "    typeval += [1] + (Nx-2)*[0] + [1]\n",
    "    \n",
    "typeval += Nx*[1]"
   ]
  },
  {
   "cell_type": "code",
   "execution_count": 5,
   "id": "f5a008c3-f89d-466f-8b9c-df0c95cd15b3",
   "metadata": {
    "tags": []
   },
   "outputs": [],
   "source": [
    "field.set_x_values(np.tile(np.linspace(0, 1, Nx), Ny))\n",
    "field.set_y_values(yval)\n",
    "field.set_type(typeval)"
   ]
  },
  {
   "cell_type": "code",
   "execution_count": 6,
   "id": "eb8cf9bb-ff37-406b-9305-f8781b842900",
   "metadata": {
    "tags": []
   },
   "outputs": [
    {
     "data": {
      "image/png": "[encoded data removed]",
      "text/plain": [
       "<Figure size 640x480 with 1 Axes>"
      ]
     },
     "metadata": {},
     "output_type": "display_data"
    }
   ],
   "source": [
    "field.show_grid()"
   ]
  },
  {
   "cell_type": "code",
   "execution_count": 7,
   "id": "e71b1e02-c846-430a-b42f-d01a90028a5a",
   "metadata": {
    "tags": []
   },
   "outputs": [],
   "source": [
    "field.grid[1,0].gridpoint_type = 2"
   ]
  },
  {
   "cell_type": "code",
   "execution_count": 8,
   "id": "cd4545eb-9cb4-4c08-85c5-79956925cd5a",
   "metadata": {
    "tags": []
   },
   "outputs": [
    {
     "data": {
      "text/plain": [
       "0"
      ]
     },
     "execution_count": 8,
     "metadata": {},
     "output_type": "execute_result"
    }
   ],
   "source": [
    "field.grid[0,0].index"
   ]
  },
  {
   "cell_type": "code",
   "execution_count": 9,
   "id": "e165672c-94a5-4b0b-bc8a-19a076cbf27e",
   "metadata": {
    "tags": []
   },
   "outputs": [
    {
     "data": {
      "text/plain": [
       "array([[<Grid.gridpoint object at 0x000001B66A79FB50>,\n",
       "        <Grid.gridpoint object at 0x000001B669F2ACD0>,\n",
       "        <Grid.gridpoint object at 0x000001B66A7C2890>,\n",
       "        <Grid.gridpoint object at 0x000001B66A7DDF50>,\n",
       "        <Grid.gridpoint object at 0x000001B66A72C1D0>],\n",
       "       [<Grid.gridpoint object at 0x000001B66A7C8090>,\n",
       "        <Grid.gridpoint object at 0x000001B66A7C9590>,\n",
       "        <Grid.gridpoint object at 0x000001B66A7C97D0>,\n",
       "        <Grid.gridpoint object at 0x000001B66A6BF390>,\n",
       "        <Grid.gridpoint object at 0x000001B66A6BF090>],\n",
       "       [<Grid.gridpoint object at 0x000001B66A6BCF10>,\n",
       "        <Grid.gridpoint object at 0x000001B66A6BD050>,\n",
       "        <Grid.gridpoint object at 0x000001B66A801A50>,\n",
       "        <Grid.gridpoint object at 0x000001B66A801890>,\n",
       "        <Grid.gridpoint object at 0x000001B66A801F90>],\n",
       "       [<Grid.gridpoint object at 0x000001B66A803590>,\n",
       "        <Grid.gridpoint object at 0x000001B66A8035D0>,\n",
       "        <Grid.gridpoint object at 0x000001B66A803610>,\n",
       "        <Grid.gridpoint object at 0x000001B66A803650>,\n",
       "        <Grid.gridpoint object at 0x000001B66A803690>],\n",
       "       [<Grid.gridpoint object at 0x000001B66A803710>,\n",
       "        <Grid.gridpoint object at 0x000001B66A803750>,\n",
       "        <Grid.gridpoint object at 0x000001B66A803790>,\n",
       "        <Grid.gridpoint object at 0x000001B66A8037D0>,\n",
       "        <Grid.gridpoint object at 0x000001B66A803810>],\n",
       "       [<Grid.gridpoint object at 0x000001B66A8038D0>,\n",
       "        <Grid.gridpoint object at 0x000001B66A803910>,\n",
       "        <Grid.gridpoint object at 0x000001B66A803950>,\n",
       "        <Grid.gridpoint object at 0x000001B66A803990>,\n",
       "        <Grid.gridpoint object at 0x000001B66A8039D0>],\n",
       "       [<Grid.gridpoint object at 0x000001B66A803A50>,\n",
       "        <Grid.gridpoint object at 0x000001B66A803A90>,\n",
       "        <Grid.gridpoint object at 0x000001B66A803AD0>,\n",
       "        <Grid.gridpoint object at 0x000001B66A803B10>,\n",
       "        <Grid.gridpoint object at 0x000001B66A803B50>],\n",
       "       [<Grid.gridpoint object at 0x000001B66A803BD0>,\n",
       "        <Grid.gridpoint object at 0x000001B66A803C10>,\n",
       "        <Grid.gridpoint object at 0x000001B66A803C50>,\n",
       "        <Grid.gridpoint object at 0x000001B66A803C90>,\n",
       "        <Grid.gridpoint object at 0x000001B66A803CD0>],\n",
       "       [<Grid.gridpoint object at 0x000001B66A803D50>,\n",
       "        <Grid.gridpoint object at 0x000001B66A803D90>,\n",
       "        <Grid.gridpoint object at 0x000001B66A803DD0>,\n",
       "        <Grid.gridpoint object at 0x000001B66A803E10>,\n",
       "        <Grid.gridpoint object at 0x000001B66A803E50>],\n",
       "       [<Grid.gridpoint object at 0x000001B66A803890>,\n",
       "        <Grid.gridpoint object at 0x000001B66A803ED0>,\n",
       "        <Grid.gridpoint object at 0x000001B66A803F10>,\n",
       "        <Grid.gridpoint object at 0x000001B66A803F50>,\n",
       "        <Grid.gridpoint object at 0x000001B66A803F90>],\n",
       "       [<Grid.gridpoint object at 0x000001B66A814050>,\n",
       "        <Grid.gridpoint object at 0x000001B66A814090>,\n",
       "        <Grid.gridpoint object at 0x000001B66A8140D0>,\n",
       "        <Grid.gridpoint object at 0x000001B66A814110>,\n",
       "        <Grid.gridpoint object at 0x000001B66A814150>]], dtype=object)"
      ]
     },
     "execution_count": 9,
     "metadata": {},
     "output_type": "execute_result"
    }
   ],
   "source": [
    "field.grid"
   ]
  },
  {
   "cell_type": "code",
   "execution_count": 10,
   "id": "05a3ddb2-1b0e-4d8f-90aa-a7ff03fca0d6",
   "metadata": {
    "tags": []
   },
   "outputs": [
    {
     "data": {
      "text/plain": [
       "array([ 0,  1,  2,  3,  4,  5,  6,  7,  8,  9, 10, 11, 12, 13, 14, 15, 16,\n",
       "       17, 18, 19, 20, 21, 22, 23, 24, 25, 26, 27, 28, 29, 30, 31, 32, 33,\n",
       "       34, 35, 36, 37, 38, 39, 40, 41, 42, 43, 44, 45, 46, 47, 48, 49, 50,\n",
       "       51, 52, 53, 54])"
      ]
     },
     "execution_count": 10,
     "metadata": {},
     "output_type": "execute_result"
    }
   ],
   "source": [
    "field.grid_index()"
   ]
  },
  {
   "cell_type": "code",
   "execution_count": 11,
   "id": "ac6105c2-d6e4-43d4-bd42-6f8aa6e833cf",
   "metadata": {
    "tags": []
   },
   "outputs": [],
   "source": [
    "field.grid[0,0].neighbours[0]\n",
    "if field.grid[0,0].gridpoint_type == 0:\n",
    "    field.grid[0,0].neighbours[0] = 1\n",
    "    print(\"hoi\")"
   ]
  },
  {
   "cell_type": "code",
   "execution_count": 12,
   "id": "826b14af-c5c4-4c60-b782-c972160c2e5b",
   "metadata": {
    "tags": []
   },
   "outputs": [
    {
     "data": {
      "text/plain": [
       "array([ 500514424,      32762, 1776966064,        438, 1776921760,\n",
       "              438, 1776966160,        438])"
      ]
     },
     "execution_count": 12,
     "metadata": {},
     "output_type": "execute_result"
    }
   ],
   "source": [
    "field.grid[0,0].neighbours"
   ]
  },
  {
   "cell_type": "code",
   "execution_count": 13,
   "id": "d0ecbc4d-01ee-447a-a776-e60885854c55",
   "metadata": {
    "tags": []
   },
   "outputs": [
    {
     "data": {
      "text/plain": [
       "1"
      ]
     },
     "execution_count": 13,
     "metadata": {},
     "output_type": "execute_result"
    }
   ],
   "source": [
    "field.grid[0,0].gridpoint_type"
   ]
  },
  {
   "cell_type": "code",
   "execution_count": 14,
   "id": "ea32e493-584f-42e8-96a0-2179d8966cac",
   "metadata": {
    "tags": []
   },
   "outputs": [
    {
     "data": {
      "text/plain": [
       "array([ 500514424,      32762, 1776966064,        438, 1776921760,\n",
       "              438, 1776966160,        438])"
      ]
     },
     "execution_count": 14,
     "metadata": {},
     "output_type": "execute_result"
    }
   ],
   "source": [
    "field.grid[0,0].neighbours"
   ]
  },
  {
   "cell_type": "code",
   "execution_count": 15,
   "id": "16a8f026-efc3-478d-b167-eb67b30fd6fc",
   "metadata": {
    "tags": []
   },
   "outputs": [
    {
     "data": {
      "text/plain": [
       "6"
      ]
     },
     "execution_count": 15,
     "metadata": {},
     "output_type": "execute_result"
    }
   ],
   "source": [
    "-2%8"
   ]
  },
  {
   "cell_type": "code",
   "execution_count": 16,
   "id": "648f0e5e-53b8-4fd1-9d93-be0598835d61",
   "metadata": {
    "tags": []
   },
   "outputs": [
    {
     "data": {
      "text/plain": [
       "1776966160"
      ]
     },
     "execution_count": 16,
     "metadata": {},
     "output_type": "execute_result"
    }
   ],
   "source": [
    "field.grid[0,0].neighbours[6]"
   ]
  },
  {
   "cell_type": "code",
   "execution_count": 17,
   "id": "06287e6e-e62d-4983-b405-c667f24c2bf9",
   "metadata": {
    "tags": []
   },
   "outputs": [],
   "source": [
    "field.set_neighbours()"
   ]
  },
  {
   "cell_type": "code",
   "execution_count": 18,
   "id": "492ea542-759a-45da-a368-b9c99161e729",
   "metadata": {
    "tags": []
   },
   "outputs": [
    {
     "data": {
      "text/plain": [
       "array([ 0,  1,  2,  3,  4,  5,  6,  7,  8,  9, 10, 11, 12, 13, 14, 15, 16,\n",
       "       17, 18, 19, 20, 21, 22, 23, 24, 25, 26, 27, 28, 29, 30, 31, 32, 33,\n",
       "       34, 35, 36, 37, 38, 39, 40, 41, 42, 43, 44, 45, 46, 47, 48, 49, 50,\n",
       "       51, 52, 53, 54])"
      ]
     },
     "execution_count": 18,
     "metadata": {},
     "output_type": "execute_result"
    }
   ],
   "source": [
    "field.grid_index()"
   ]
  },
  {
   "cell_type": "code",
   "execution_count": 19,
   "id": "dc5b68f5-195d-49cf-a83c-df52d342799d",
   "metadata": {
    "tags": []
   },
   "outputs": [
    {
     "data": {
      "image/png": "[encoded data removed]",
      "text/plain": [
       "<Figure size 640x480 with 1 Axes>"
      ]
     },
     "metadata": {},
     "output_type": "display_data"
    }
   ],
   "source": [
    "field.show_grid()"
   ]
  },
  {
   "cell_type": "code",
   "execution_count": 63,
   "id": "9b7e39a0-2b28-4078-aa09-902a56d1d15c",
   "metadata": {
    "tags": []
   },
   "outputs": [],
   "source": [
    "coords = np.stack((field.grid_x(), field.grid_y()), -1)"
   ]
  },
  {
   "cell_type": "code",
   "execution_count": 56,
   "id": "9d52c89d-34f6-4c67-89f6-1d5c7ac118b2",
   "metadata": {
    "tags": []
   },
   "outputs": [],
   "source": [
    "c = np.stack((field.grid_x(), field.grid_y()), -1)"
   ]
  },
  {
   "cell_type": "code",
   "execution_count": 71,
   "id": "cb8817e4-4cd3-49a1-9542-142c22e25737",
   "metadata": {
    "tags": []
   },
   "outputs": [
    {
     "data": {
      "text/plain": [
       "array([13, 24, 23, 22, 11,  0,  1,  2])"
      ]
     },
     "execution_count": 71,
     "metadata": {},
     "output_type": "execute_result"
    }
   ],
   "source": [
    "field.grid[1, 1].neighbours"
   ]
  },
  {
   "cell_type": "code",
   "execution_count": 74,
   "id": "5e798a8a-81fd-4b43-9163-8d05e0b3e11e",
   "metadata": {
    "tags": []
   },
   "outputs": [],
   "source": [
    "neighbours = field.grid[1, 1].neighbours\n",
    "field.grid[1, 1].subpoints[0] = (c[field.grid[1, 1].index] + c[neighbours[0]])/2\n",
    "field.grid[1, 1].subpoints[1] = (c[field.grid[1, 1].index] + c[neighbours[0]] + c[neighbours[1]] + c[neighbours[2]])/4\n",
    "field.grid[1, 1].subpoints[2] = (c[field.grid[1, 1].index] + c[neighbours[2]])/2\n",
    "field.grid[1, 1].subpoints[3] = (c[field.grid[1, 1].index] + c[neighbours[2]] + c[neighbours[3]] + c[neighbours[4]])/4\n",
    "field.grid[1, 1].subpoints[4] = (c[field.grid[1, 1].index] + c[neighbours[4]])/2\n",
    "field.grid[1, 1].subpoints[5] = (c[field.grid[1, 1].index] + c[neighbours[4]] + c[neighbours[5]] + c[neighbours[6]])/4\n",
    "field.grid[1, 1].subpoints[6] = (c[field.grid[1, 1].index] + c[neighbours[6]])/2\n",
    "field.grid[1, 1].subpoints[7] = (c[field.grid[1, 1].index] + c[neighbours[6]] + c[neighbours[7]] + c[neighbours[0]])/4\n"
   ]
  },
  {
   "cell_type": "code",
   "execution_count": 75,
   "id": "bcb0ba58-7c1a-406b-8d8c-5db16cfd2084",
   "metadata": {
    "tags": []
   },
   "outputs": [
    {
     "data": {
      "text/plain": [
       "array([array([0.15, 0.25]), array([0.15 , 0.375]), array([0.1  , 0.375]),\n",
       "       array([0.05 , 0.375]), array([0.05, 0.25]), array([0.05 , 0.125]),\n",
       "       array([0.1  , 0.125]), array([0.15 , 0.125])], dtype=object)"
      ]
     },
     "execution_count": 75,
     "metadata": {},
     "output_type": "execute_result"
    }
   ],
   "source": [
    "field.grid[1, 1].subpoints"
   ]
  },
  {
   "cell_type": "code",
   "execution_count": 70,
   "id": "206a28a4-0651-4524-b7aa-815de010afb3",
   "metadata": {
    "tags": []
   },
   "outputs": [
    {
     "data": {
      "text/plain": [
       "array([[0.  , 0.  ],\n",
       "       [0.1 , 0.  ],\n",
       "       [0.2 , 0.  ],\n",
       "       [0.3 , 0.  ],\n",
       "       [0.4 , 0.  ],\n",
       "       [0.5 , 0.  ],\n",
       "       [0.6 , 0.  ],\n",
       "       [0.7 , 0.  ],\n",
       "       [0.8 , 0.  ],\n",
       "       [0.9 , 0.  ],\n",
       "       [1.  , 0.  ],\n",
       "       [0.  , 0.25],\n",
       "       [0.1 , 0.25],\n",
       "       [0.2 , 0.25],\n",
       "       [0.3 , 0.25],\n",
       "       [0.4 , 0.25],\n",
       "       [0.5 , 0.25],\n",
       "       [0.6 , 0.25],\n",
       "       [0.7 , 0.25],\n",
       "       [0.8 , 0.25],\n",
       "       [0.9 , 0.25],\n",
       "       [1.  , 0.25],\n",
       "       [0.  , 0.5 ],\n",
       "       [0.1 , 0.5 ],\n",
       "       [0.2 , 0.5 ],\n",
       "       [0.3 , 0.5 ],\n",
       "       [0.4 , 0.5 ],\n",
       "       [0.5 , 0.5 ],\n",
       "       [0.6 , 0.5 ],\n",
       "       [0.7 , 0.5 ],\n",
       "       [0.8 , 0.5 ],\n",
       "       [0.9 , 0.5 ],\n",
       "       [1.  , 0.5 ],\n",
       "       [0.  , 0.75],\n",
       "       [0.1 , 0.75],\n",
       "       [0.2 , 0.75],\n",
       "       [0.3 , 0.75],\n",
       "       [0.4 , 0.75],\n",
       "       [0.5 , 0.75],\n",
       "       [0.6 , 0.75],\n",
       "       [0.7 , 0.75],\n",
       "       [0.8 , 0.75],\n",
       "       [0.9 , 0.75],\n",
       "       [1.  , 0.75],\n",
       "       [0.  , 1.  ],\n",
       "       [0.1 , 1.  ],\n",
       "       [0.2 , 1.  ],\n",
       "       [0.3 , 1.  ],\n",
       "       [0.4 , 1.  ],\n",
       "       [0.5 , 1.  ],\n",
       "       [0.6 , 1.  ],\n",
       "       [0.7 , 1.  ],\n",
       "       [0.8 , 1.  ],\n",
       "       [0.9 , 1.  ],\n",
       "       [1.  , 1.  ]])"
      ]
     },
     "execution_count": 70,
     "metadata": {},
     "output_type": "execute_result"
    }
   ],
   "source": [
    "c[]"
   ]
  },
  {
   "cell_type": "code",
   "execution_count": 41,
   "id": "84867544-d282-4eca-8833-3dcf93c07775",
   "metadata": {
    "tags": []
   },
   "outputs": [
    {
     "data": {
      "text/plain": [
       "array([0.15, 0.25])"
      ]
     },
     "execution_count": 41,
     "metadata": {},
     "output_type": "execute_result"
    }
   ],
   "source": [
    "field.grid[1, 1].subpoints[0]"
   ]
  },
  {
   "cell_type": "code",
   "execution_count": 28,
   "id": "11efd964-3dc4-4266-9644-25a3850c4524",
   "metadata": {
    "tags": []
   },
   "outputs": [
    {
     "data": {
      "text/plain": [
       "0.6000000000000001"
      ]
     },
     "execution_count": 28,
     "metadata": {},
     "output_type": "execute_result"
    }
   ],
   "source": [
    "field.grid_x()[6]"
   ]
  },
  {
   "cell_type": "code",
   "execution_count": 29,
   "id": "c5fb324e-3e86-4a5f-a9c5-66f9edde7115",
   "metadata": {
    "tags": []
   },
   "outputs": [
    {
     "data": {
      "text/plain": [
       "array([ 1, 12, 11, 21, 10, 54, 44, 45])"
      ]
     },
     "execution_count": 29,
     "metadata": {},
     "output_type": "execute_result"
    }
   ],
   "source": [
    "field.grid[0,0].neighbours"
   ]
  },
  {
   "cell_type": "code",
   "execution_count": 30,
   "id": "a6074cb5-0132-43bb-b576-bc3dec924899",
   "metadata": {
    "tags": []
   },
   "outputs": [
    {
     "name": "stdout",
     "output_type": "stream",
     "text": [
      "[ 1 12 11 21 10 54 44 45]\n",
      "[ 500516216      32762 1776985360        438 1776923488        438\n",
      " 1776871088        438]\n",
      "[ 3 14 13 12  1 45 46 47]\n",
      "[ 4 15 14 13  2 46 47 48]\n",
      "[ 5 16 15 14  3 47 48 49]\n",
      "[ 6 17 16 15  4 48 49 50]\n",
      "[ 7 18 17 16  5 49 50 51]\n",
      "[ 8 19 18 17  6 50 51 52]\n",
      "[ 9 20 19 18  7 51 52 53]\n",
      "[10 21 20 19  8 52 53 54]\n",
      "[ 0 11 21 20  9 53 54 44]\n",
      "[12 23 22 32 21 10  0  1]\n",
      "[13 24 23 22 11  0  1  2]\n",
      "[14 25 24 23 12  1  2  3]\n",
      "[15 26 25 24 13  2  3  4]\n",
      "[16 27 26 25 14  3  4  5]\n",
      "[17 28 27 26 15  4  5  6]\n",
      "[18 29 28 27 16  5  6  7]\n",
      "[19 30 29 28 17  6  7  8]\n",
      "[20 31 30 29 18  7  8  9]\n",
      "[21 32 31 30 19  8  9 10]\n",
      "[11 22 32 31 20  9 10  0]\n",
      "[23 34 33 43 32 21 11 12]\n",
      "[24 35 34 33 22 11 12 13]\n",
      "[25 36 35 34 23 12 13 14]\n",
      "[26 37 36 35 24 13 14 15]\n",
      "[27 38 37 36 25 14 15 16]\n",
      "[28 39 38 37 26 15 16 17]\n",
      "[29 40 39 38 27 16 17 18]\n",
      "[30 41 40 39 28 17 18 19]\n",
      "[31 42 41 40 29 18 19 20]\n",
      "[32 43 42 41 30 19 20 21]\n",
      "[22 33 43 42 31 20 21 11]\n",
      "[34 45 44 54 43 32 22 23]\n",
      "[35 46 45 44 33 22 23 24]\n",
      "[36 47 46 45 34 23 24 25]\n",
      "[37 48 47 46 35 24 25 26]\n",
      "[38 49 48 47 36 25 26 27]\n",
      "[39 50 49 48 37 26 27 28]\n",
      "[40 51 50 49 38 27 28 29]\n",
      "[41 52 51 50 39 28 29 30]\n",
      "[42 53 52 51 40 29 30 31]\n",
      "[43 54 53 52 41 30 31 32]\n",
      "[33 44 54 53 42 31 32 22]\n",
      "[45  1  0 10 54 43 33 34]\n",
      "[46  2  1  0 44 33 34 35]\n",
      "[47  3  2  1 45 34 35 36]\n",
      "[48  4  3  2 46 35 36 37]\n",
      "[49  5  4  3 47 36 37 38]\n",
      "[50  6  5  4 48 37 38 39]\n",
      "[51  7  6  5 49 38 39 40]\n",
      "[52  8  7  6 50 39 40 41]\n",
      "[53  9  8  7 51 40 41 42]\n",
      "[54 10  9  8 52 41 42 43]\n",
      "[44  0 10  9 53 42 43 33]\n"
     ]
    }
   ],
   "source": [
    "for point in field.grid.flatten('F'):\n",
    "    print(point.neighbours)"
   ]
  },
  {
   "cell_type": "code",
   "execution_count": 31,
   "id": "ec2369f9-8c33-4732-ad12-d46bd5a46c63",
   "metadata": {
    "tags": []
   },
   "outputs": [
    {
     "data": {
      "text/plain": [
       "0"
      ]
     },
     "execution_count": 31,
     "metadata": {},
     "output_type": "execute_result"
    }
   ],
   "source": [
    "field.grid[0,0].index"
   ]
  },
  {
   "cell_type": "code",
   "execution_count": 32,
   "id": "bf1511bd-4548-47b4-8b82-e9fa26d40233",
   "metadata": {
    "tags": []
   },
   "outputs": [
    {
     "data": {
      "text/plain": [
       "0.25"
      ]
     },
     "execution_count": 32,
     "metadata": {},
     "output_type": "execute_result"
    }
   ],
   "source": [
    "field.grid.flatten('F')[12].y"
   ]
  },
  {
   "cell_type": "code",
   "execution_count": 33,
   "id": "8cada304-46d6-4491-b977-1b30fdbfa1a6",
   "metadata": {
    "tags": []
   },
   "outputs": [
    {
     "data": {
      "text/plain": [
       "array([0. , 0.1, 0.2, 0.3, 0.4, 0.5, 0.6, 0.7, 0.8, 0.9, 1. , 0. , 0.1,\n",
       "       0.2, 0.3, 0.4, 0.5, 0.6, 0.7, 0.8, 0.9, 1. , 0. , 0.1, 0.2, 0.3,\n",
       "       0.4, 0.5, 0.6, 0.7, 0.8, 0.9, 1. , 0. , 0.1, 0.2, 0.3, 0.4, 0.5,\n",
       "       0.6, 0.7, 0.8, 0.9, 1. , 0. , 0.1, 0.2, 0.3, 0.4, 0.5, 0.6, 0.7,\n",
       "       0.8, 0.9, 1. ])"
      ]
     },
     "execution_count": 33,
     "metadata": {},
     "output_type": "execute_result"
    }
   ],
   "source": [
    "field.grid_x()"
   ]
  },
  {
   "cell_type": "code",
   "execution_count": null,
   "id": "632d57df-88d0-49c1-93c7-a0e25874fee7",
   "metadata": {},
   "outputs": [],
   "source": []
  }
 ],
 "metadata": {
  "kernelspec": {
   "display_name": "Python 3 (ipykernel)",
   "language": "python",
   "name": "python3"
  },
  "language_info": {
   "codemirror_mode": {
    "name": "ipython",
    "version": 3
   },
   "file_extension": ".py",
   "mimetype": "text/x-python",
   "name": "python",
   "nbconvert_exporter": "python",
   "pygments_lexer": "ipython3",
   "version": "3.11.5"
  }
 },
 "nbformat": 4,
 "nbformat_minor": 5
}
